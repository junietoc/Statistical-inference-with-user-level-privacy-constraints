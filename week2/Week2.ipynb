{
 "cells": [
  {
   "cell_type": "markdown",
   "id": "90be18f4-6df5-4430-aec1-66cfe9b44be9",
   "metadata": {
    "id": "90be18f4-6df5-4430-aec1-66cfe9b44be9"
   },
   "source": [
    "# Week 2-3: Logistic Regression, Differential Privacy Basics"
   ]
  },
  {
   "cell_type": "markdown",
   "id": "1fd8496b-61a0-4e3e-a12d-3fa8657b7781",
   "metadata": {
    "id": "1fd8496b-61a0-4e3e-a12d-3fa8657b7781"
   },
   "source": [
    "\n",
    "We will consider the task of binary classification where we are given labeled data $\\{(x_i , y_i )\\}_{i \\in[n]}$\n",
    "with $x_i \\in \\mathbb{R}^d$ and $y_i \\in {−1, 1}$, and the goal is to learn a classifier $f_\\theta : \\mathbb{R}^d \\rightarrow \\{−1, 1\\}$ parameterized by $\\theta \\in \\mathbb{R}^d$ . Given a new sample $x$, our predicted label would be $\\hat{y} = f_\\theta (x)$. One\n",
    "way to learn such a classifier is by using the logistic model defined using the conditional\n",
    "probabilty\n",
    "\n",
    "\n",
    "$P(y = 1|x, θ) = \\frac{e^{\\theta^T x}}{1+ e^{\\theta^T x}}$\n",
    "\n",
    "a) For the above model, verify that checking P(y = 1|x) > P(y = −1|x) is equivalent\n",
    "to checking θ >x > 0. Given this, what would be your strategy to estimate the label\n",
    "once you know θ?\n",
    "\n",
    "**Solution:**\n",
    "\n",
    "\n",
    "$$\\begin{align*}\n",
    "P(y = -1|x, θ) &=  1 - P(y = 1|x, θ) \\\\\n",
    "&= 1 -\\frac{e^{\\theta^T x}}{1+ e^{\\theta^T x}} \\\\\n",
    "&= \\frac{1}{1+ e^{\\theta^T x}}\n",
    "\\end{align*}$$\n",
    "\n",
    "Then\n",
    "$$P(y = 1|x, θ) > P(y = -1|x, θ)$$\n",
    "$$\\frac{e^{\\theta^T x}}{1+ e^{\\theta^T x}} > \\frac{1}{1+ e^{\\theta^T x}}$$\n",
    "$$e^{\\theta^T x} > 1$$\n",
    "$$\\theta^T x >\\ln{1}$$\n",
    "$$\\theta^T x > 0$$\n",
    "\n",
    "\n",
    "This gives us a the intuition that for given sample $x$ we might assign a label $y=1$ if $\\theta^T x > 0$ and $y=-1$ if $\\theta^T x < 0$\n"
   ]
  },
  {
   "cell_type": "markdown",
   "id": "a59b9411-2cb1-4810-a8c8-09c74e69b9cb",
   "metadata": {
    "id": "a59b9411-2cb1-4810-a8c8-09c74e69b9cb"
   },
   "source": [
    "b) Write down the log likelihood function for the above model and describe an algorithm\n",
    "to find the maximum likelihood estimate for θ.\n",
    "\n",
    "**Solution**\n",
    "\n",
    "The maximum likelihood function is\n",
    "$$\\begin{align*}\n",
    "\\mathcal{L}(\\theta) &= \\prod_{y_i} P(y=1 |x,\\theta) \\cdot \\prod_{y_i} (1 - P(y=1 |x,\\theta)) \\\\\n",
    "&= \\prod P(y=1 |x,\\theta)^{y_i} (1 - P(y=1 |x,\\theta))^{(1-y_i)}\n",
    "\\end{align*}\n",
    "$$\n",
    "\n",
    "Finding the log-likelihood, we get:\n",
    "$$\n",
    "\\begin{align*}\n",
    "\\mathcal{l}(\\theta) &= \\sum y_i \\log{P(y=1 |x,\\theta)} + (1-y_i) \\log{1 - P(y=1 |x,\\theta)} \\\\\n",
    "&= \\sum y_i \\log{\\frac{e^{\\theta^T x}}{1+ e^{\\theta^T x}}} + (1-y_i) \\log{\\frac{1}{1+e^{\\theta^T x}}} \\\\\n",
    "& = \\sum y_i [\\log{\\frac{e^{\\theta^T x}}{1+e^{\\theta^T x}}} - \\log{\\frac{1}{1+e^{\\theta^T x}}}] + \\log{\\frac{1}{1+e^{\\theta^T x}}} \\\\\n",
    "&= \\sum y_i [\\log{(e^{\\theta^T x})} - \\log{(1+e^{\\theta^T x})} + \\log{(1+e^{\\theta^T x}}] + \\log{\\frac{1}{1+e^{\\theta^T x}}} \\\\\n",
    "&= \\sum y_i \\log{(e^{\\theta^T x})} - \\log{(1+e^{\\theta^T x})} \\\\\n",
    "&= \\sum y_i \\theta^T x - \\log{(1+e^{\\theta^T x})}\n",
    "\\end{align*}$$\n",
    "For maximizing the log-likelihood function we take the derivative and find a zero:\n",
    "$$\\begin{align*}\n",
    "\\nabla_{\\theta} \\mathcal{l}(\\theta) &= \\nabla_{\\theta}[\\sum y_i \\theta^T x_i - \\log{(1+e^{\\theta^T x_i})}] \\\\\n",
    "&= \\sum y_i x_i - \\frac{ e^{\\theta^T x}}{1+e^{\\theta^T x}} x_i\n",
    "\\end{align*}\n",
    "$$\n",
    "\n",
    "We can find a root using gradient descent method."
   ]
  },
  {
   "cell_type": "code",
   "execution_count": 3,
   "id": "545d7947-0c8b-4a84-a6e6-ffbd8e8baf08",
   "metadata": {
    "id": "545d7947-0c8b-4a84-a6e6-ffbd8e8baf08"
   },
   "outputs": [],
   "source": [
    "import numpy as np"
   ]
  },
  {
   "cell_type": "code",
   "execution_count": 5,
   "id": "94c99704-c66f-4f5c-a46d-8aa252ef3325",
   "metadata": {
    "id": "94c99704-c66f-4f5c-a46d-8aa252ef3325"
   },
   "outputs": [],
   "source": [
    "def log_likelihood(theta, X, y):\n",
    "\n",
    "    linear_combination = np.dot(X, theta)\n",
    "\n",
    "    log_ll = np.sum(y * linear_combination - np.log(1 + np.exp(linear_combination)))\n",
    "\n",
    "    return log_ll"
   ]
  },
  {
   "cell_type": "code",
   "execution_count": 6,
   "id": "0686c27d-a230-466f-8dd6-312db5893387",
   "metadata": {
    "id": "0686c27d-a230-466f-8dd6-312db5893387"
   },
   "outputs": [],
   "source": [
    "def log_likelihood_derivative(theta, X, y):\n",
    "\n",
    "    n = len(y)\n",
    "    gradient = np.zeros_like(theta)\n",
    "    for i in range(n):\n",
    "        linear_combination = np.dot(X[i], theta)\n",
    "        gradient += (y[i]*X[i] - (( np.exp(linear_combination)/(1+ np.exp(linear_combination)))* X[i]))\n",
    "    return gradient\n",
    "\n",
    "    return derivative"
   ]
  },
  {
   "cell_type": "code",
   "execution_count": 7,
   "id": "34a1d594-1beb-42fc-9106-044d94fabab9",
   "metadata": {
    "id": "34a1d594-1beb-42fc-9106-044d94fabab9"
   },
   "outputs": [],
   "source": [
    "n = 1\n",
    "d = 50\n",
    "X = np.random.normal(loc=0, scale=np.sqrt(0.1), size=(n,d))\n",
    "\n",
    "theta_star = np.random.rand(d)\n",
    "\n",
    "linear_combination = X.dot(theta_star)\n",
    "\n",
    "probabilities = 1 / (1 + np.exp(-linear_combination))\n",
    "\n",
    "y = np.array((np.where(probabilities >= 0.5, 1, -1)))"
   ]
  },
  {
   "cell_type": "code",
   "execution_count": 8,
   "id": "f9e3e209-b629-42ee-a4e5-1c781e11f05e",
   "metadata": {
    "colab": {
     "base_uri": "https://localhost:8080/"
    },
    "id": "f9e3e209-b629-42ee-a4e5-1c781e11f05e",
    "outputId": "c22e6470-781a-4a5d-a437-a0ce9799d597"
   },
   "outputs": [
    {
     "data": {
      "text/plain": [
       "array([-1.12513131])"
      ]
     },
     "execution_count": 8,
     "metadata": {},
     "output_type": "execute_result"
    }
   ],
   "source": [
    "linear_combination"
   ]
  },
  {
   "cell_type": "code",
   "execution_count": 11,
   "id": "1e46011f-6344-4fb5-9a25-4a65f3ff1089",
   "metadata": {
    "id": "1e46011f-6344-4fb5-9a25-4a65f3ff1089"
   },
   "outputs": [],
   "source": [
    "def gradient_descent(f, gradient, X, y, theta, learning_rate=0.001, tol=1e-6, max_iter=1000):\n",
    "    for _ in range(max_iter):\n",
    "        grad = gradient(theta, X, y)\n",
    "        theta -= learning_rate * grad\n",
    "        if np.linalg.norm(grad) < tol:\n",
    "            return theta\n",
    "    raise ValueError(\"Gradient descent did not converge within the maximum number of iterations.\")"
   ]
  },
  {
   "cell_type": "markdown",
   "id": "167da2e9-7e50-4ac1-8864-8af1044ac198",
   "metadata": {
    "id": "167da2e9-7e50-4ac1-8864-8af1044ac198"
   },
   "source": [
    "## 2. Differential Privacy Basics"
   ]
  },
  {
   "cell_type": "markdown",
   "id": "e770adfa-b080-48ef-96d7-c0d3d35e463c",
   "metadata": {
    "id": "e770adfa-b080-48ef-96d7-c0d3d35e463c"
   },
   "source": [
    "### a)\n",
    "- As $\\epsilon$ tends to $0$, the limits of the functions $\\frac{e^x}{1 + e^x}$ and $\\frac{1}{1 + e^x}$ as $x$ approaches $0$ are both equal to $\\frac{1}{2}$. This option leaves $y_i$ equal to $x_i$ with a probability of one half and equal to $1-x_i$ with a probability of one half. In this case, the information will remain private until the point of information loss as well.\n",
    "- As $\\epsilon$ tends to $\\infty$, the limits of the functions $\\frac{e^x}{1 + e^x}$ and $\\frac{1}{1 + e^x}$ as $x$ approaches $0$ are $1$ and $0$ respectively. This scenario clearly indicates that user information becomes blatantly non-private.\n",
    "- Let us use the expected value as an estimator for $y_i$, then\n",
    "  $$\\begin{align*}\n",
    "  E[y_i] &= x_i (\\frac{e^\\epsilon}{1+e^\\epsilon}) + (1-x_i)(\\frac{1}{1+e^\\epsilon}) \\\\\n",
    "  &= \\frac{x_i e^\\epsilon}{1+e^\\epsilon} + \\frac{1-x_i}{1+e^\\epsilon} \\\\\n",
    "  &= \\frac{x_i e^\\epsilon + 1 - x_i}{e^\\epsilon - 1} \\\\\n",
    "  &= \\frac{e^\\epsilon + x_i(1-e^\\epsilon)}{e^\\epsilon - 1}\n",
    "  \\end{align*}$$\n",
    "  Solving for $x_i$:\n",
    "  $$\\begin{align*}\n",
    "  x_i &= \\frac{E[y_i](1+e^\\epsilon)-1}{e^\\epsilon - 1} \\\\\n",
    "  &= E\\Big[\\frac{y_i(1+e^\\epsilon)-1}{e^\\epsilon - 1}\\Big]\n",
    "  \\end{align*}$$\n",
    "  Thus, the estimator is\n",
    "  $$\\hat{p} = \\frac{1}{n} \\sum_{i=0}^{n}\\frac{y_i(1+e^\\epsilon)-1}{e^\\epsilon - 1}$$\n",
    "  Let us verify if this estimator is biased\n",
    "  $$\n",
    "  \\begin{align*}\n",
    "  E[\\hat{p}] &= E \\Big[ \\frac{1}{n} \\sum_{i=0}^{n}\\frac{y_i(1+e^\\epsilon)-1}{e^\\epsilon - 1} \\Big] \\\\\n",
    "  &=  \\frac{1}{n} \\sum_{i=0}^{n} E \\Big[ \\frac{y_i(1+e^\\epsilon)-1}{e^\\epsilon - 1} \\Big] \\\\\n",
    "  &= \\frac{1}{n} \\sum_{i=0}^{n} x_i \\\\\n",
    "  &= p\n",
    "  \\end{align*}\n",
    "  $$\n",
    "  Then, the estimator $\\hat{p}$ is unbiased.\n",
    "\n",
    "  Let us verify the variance for $\\hat{p}$\n",
    "  $$\n",
    "  \\begin{align*}\n",
    "  Var[\\hat{p}] &= Var\\Big[ \\frac{1}{n} \\sum_{i=0}^{n}\\frac{y_i(1+e^\\epsilon)-1}{e^\\epsilon - 1}\\Big] \\\\\n",
    "  &= \\frac{1}{n^2} Var\\Big[  \\sum_{i=0}^{n}\\frac{y_i(1+e^\\epsilon)-1}{e^\\epsilon - 1}\\Big] \\\\\n",
    "  &=  \\frac{1}{n^2} \\cdot \\frac{(1+e^\\epsilon)^2}{(e^\\epsilon - 1)^2} Var\\Big[  \\sum_{i=0}^{n}y_i\\Big]\n",
    "  \\end{align*}\n",
    "  $$\n",
    "  Since the variance of a Bernoulli distribution is bounded by $\\frac{1}{4}$:\n",
    "  $$Var[\\hat{p}] = \\frac{(1+e^\\epsilon)^2}{n^2 (e^\\epsilon - 1)^2} \\cdot Var\\Big[  \\sum_{i=0}^{n}y_i\\Big] \\leq \\frac{(1+e^\\epsilon)^2}{4n^2 (e^\\epsilon - 1)^2}$$"
   ]
  },
  {
   "cell_type": "code",
   "execution_count": 23,
   "id": "rooDmEOqQHc3",
   "metadata": {
    "id": "rooDmEOqQHc3"
   },
   "outputs": [],
   "source": [
    "import matplotlib.pyplot as plt"
   ]
  },
  {
   "cell_type": "code",
   "execution_count": 13,
   "id": "c12a3bad-4c4c-43cf-b88e-57052ec70a76",
   "metadata": {
    "colab": {
     "base_uri": "https://localhost:8080/",
     "height": 517
    },
    "id": "c12a3bad-4c4c-43cf-b88e-57052ec70a76",
    "outputId": "d6788504-881c-4d6c-e3df-76203158baf9"
   },
   "outputs": [
    {
     "name": "stderr",
     "output_type": "stream",
     "text": [
      "<ipython-input-13-6a53a4a8c94c>:5: RuntimeWarning: divide by zero encountered in scalar divide\n",
      "  vi_1 = (1+np.exp(epsilon))**2 / (4*n**2*(np.exp(epsilon) - 1)**2)\n",
      "<ipython-input-13-6a53a4a8c94c>:7: RuntimeWarning: divide by zero encountered in scalar divide\n",
      "  vi_2 = 1/(np.sqrt(n)*epsilon)\n"
     ]
    },
    {
     "data": {
      "text/plain": [
       "[<matplotlib.lines.Line2D at 0x79324d199450>]"
      ]
     },
     "execution_count": 13,
     "metadata": {},
     "output_type": "execute_result"
    },
    {
     "data": {
      "image/png": "[encoded data removed]",
      "text/plain": [
       "<Figure size 640x480 with 1 Axes>"
      ]
     },
     "metadata": {},
     "output_type": "display_data"
    }
   ],
   "source": [
    "n = 100\n",
    "variance_bound_1 = list()\n",
    "variance_bound_2 = list() # 1/sqrt(n) epsilon\n",
    "for epsilon in range(300):\n",
    "  vi_1 = (1+np.exp(epsilon))**2 / (4*n**2*(np.exp(epsilon) - 1)**2)\n",
    "  variance_bound_1.append(vi_1)\n",
    "  vi_2 = 1/(np.sqrt(n)*epsilon)\n",
    "  variance_bound_2.append(vi_2)\n",
    "plt.plot(variance_bound_1)\n",
    "plt.plot(variance_bound_2)"
   ]
  },
  {
   "cell_type": "markdown",
   "id": "2T0vNJBeQdjC",
   "metadata": {
    "id": "2T0vNJBeQdjC"
   },
   "source": [
    "As epsilon increasing our bound tends to $\\frac{1}{\\sqrt{n}\\epsilon}$"
   ]
  },
  {
   "cell_type": "markdown",
   "id": "7cbd5418-6cfb-430a-aea2-0fd7e7608910",
   "metadata": {
    "id": "cAZPqMtHQm6d"
   },
   "source": [
    "### (d) Private Gradient Descent Algorithm"
   ]
  },
  {
   "cell_type": "code",
   "execution_count": 4,
   "id": "778c2585-64c5-4647-b69b-d7e6a486b940",
   "metadata": {},
   "outputs": [],
   "source": [
    "n = 1000\n",
    "d = 50\n",
    "X = np.random.normal(loc=0, scale=np.sqrt(0.1), size=(n, d))\n",
    "theta_star = np.random.rand(d)\n",
    "y = X.dot(theta_star)"
   ]
  },
  {
   "cell_type": "code",
   "execution_count": 17,
   "id": "7b865e5c-094e-4884-8cd4-6ee945fdff3e",
   "metadata": {},
   "outputs": [],
   "source": [
    "loc = 0\n",
    "b = 1"
   ]
  },
  {
   "cell_type": "code",
   "execution_count": 18,
   "id": "d867cd26-2b7b-4010-8a69-ba7c875b3bc9",
   "metadata": {},
   "outputs": [],
   "source": [
    "def l2_loss(theta, X=X, y=y):\n",
    "    predictions = np.dot(X, theta)\n",
    "    error = y - predictions\n",
    "    squared_loss = np.sum(error ** 2)\n",
    "    l2_loss = squared_loss\n",
    "    return l2_loss\n",
    "    \n",
    "def gradient_l2(theta, X=X, y=y):\n",
    "    predictions = np.dot(X, theta)\n",
    "    error = y - predictions\n",
    "    grad_theta = -2 * np.dot(X.T, error)\n",
    "    return grad_theta\n",
    "    "
   ]
  },
  {
   "cell_type": "code",
   "execution_count": 21,
   "id": "cdc76c9f-bbd7-4b6e-beba-e22247ef759c",
   "metadata": {},
   "outputs": [],
   "source": [
    "def gradient_descent():\n",
    "    n, d = X.shape\n",
    "    theta = np.random.rand(d)\n",
    "    k = 50\n",
    "    t = 0.001\n",
    "    \n",
    "    # loss_track = [l2_loss(theta)]\n",
    "    \n",
    "    gradient_track = [np.linalg.norm(gradient_l2(theta))]\n",
    "    for it in range(k):\n",
    "        gradient = gradient_l2(theta)\n",
    "        w = np.random.laplace(loc, b, d)\n",
    "        theta = theta -  t*(gradient+w)\n",
    "        \n",
    "        # loss_track.append(l2_loss(theta))\n",
    "        gradient_track.append(np.linalg.norm(gradient_l2(theta)))\n",
    "    return gradient_track, theta"
   ]
  },
  {
   "cell_type": "code",
   "execution_count": 24,
   "id": "5a1f6778-f282-4826-8df5-31ab812793d1",
   "metadata": {},
   "outputs": [
    {
     "name": "stdout",
     "output_type": "stream",
     "text": [
      "[546.5387234323287, 444.48199180291806, 362.81583356625964, 297.419698332644, 244.99894312720195, 201.84789580996437, 166.78925510382007, 138.6555224970107, 115.37955777382871, 96.37506528149343, 80.93040170613486, 67.757288346568, 56.95877545985799, 47.95396954955434, 40.10511773389911, 33.749112681571106, 29.004207647628363, 24.87603928695696, 21.203994328382482, 17.82588653957939, 15.054173070901467, 12.65314962941008, 11.140333316216903, 9.567563136745555, 8.333192730885294, 7.257587154216737, 6.566307752315046, 5.364277263554911, 4.661696979504899, 4.116579547546893, 3.8713485847806934, 3.654915564433113, 3.5266104863362036, 3.465706633360181, 3.560028767106125, 3.428053437435788, 3.346860166705034, 3.1740282401681923, 3.3960719236762706, 3.389504954459494, 3.745214202366227, 3.372093266793191, 3.320052240444742, 3.017495258761167, 3.2257049452629976, 3.515672548797286, 3.1677919148793117, 3.1153335744467565, 2.7865460490754255, 2.931838533000218, 2.6882401001532483]\n"
     ]
    },
    {
     "data": {
      "image/png": "[encoded data removed]",
      "text/plain": [
       "<Figure size 640x480 with 1 Axes>"
      ]
     },
     "metadata": {},
     "output_type": "display_data"
    }
   ],
   "source": [
    "gradient_track, optimal_theta = gradient_descent()\n",
    "print(gradient_track)\n",
    "\n",
    "log_gradient_track = np.log(gradient_track)\n",
    "\n",
    "plt.plot(log_gradient_track)\n",
    "plt.xlabel('Iteration')\n",
    "plt.ylabel('Log Gradient Norm')\n",
    "plt.title('Log Gradient Norm Track during Gradient Descent')\n",
    "plt.show()\n"
   ]
  },
  {
   "cell_type": "code",
   "execution_count": null,
   "id": "2af2bff9-8a59-46b6-a07b-ec1f08a53b4a",
   "metadata": {},
   "outputs": [],
   "source": []
  }
 ],
 "metadata": {
  "colab": {
   "provenance": []
  },
  "kernelspec": {
   "display_name": "Python 3 (ipykernel)",
   "language": "python",
   "name": "python3"
  },
  "language_info": {
   "codemirror_mode": {
    "name": "ipython",
    "version": 3
   },
   "file_extension": ".py",
   "mimetype": "text/x-python",
   "name": "python",
   "nbconvert_exporter": "python",
   "pygments_lexer": "ipython3",
   "version": "3.12.1"
  }
 },
 "nbformat": 4,
 "nbformat_minor": 5
}
